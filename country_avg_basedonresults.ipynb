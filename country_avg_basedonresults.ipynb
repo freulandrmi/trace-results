{
 "cells": [
  {
   "cell_type": "code",
   "execution_count": 5,
   "metadata": {},
   "outputs": [],
   "source": [
    "import pandas as pd\n",
    "import numpy as np"
   ]
  },
  {
   "cell_type": "markdown",
   "metadata": {},
   "source": []
  },
  {
   "cell_type": "code",
   "execution_count": 6,
   "metadata": {},
   "outputs": [
    {
     "name": "stdout",
     "output_type": "stream",
     "text": [
      "up_mid_down_new_100yr-MBP472ROWA.xlsx\n",
      "up_mid_down_new_100yr-MBP472ROWA-2.xlsx\n",
      "up_mid_down_new_100yr-MBP472ROWA-3.xlsx\n",
      "up_mid_down_new_100yr.xlsx\n",
      "up_mid_down_new_100yr.xls\n",
      "['up_mid_down_new_100yr-MBP472ROWA.xlsx', 'up_mid_down_new_100yr-MBP472ROWA-2.xlsx', 'up_mid_down_new_100yr-MBP472ROWA-3.xlsx', 'up_mid_down_new_100yr.xlsx', 'up_mid_down_new_100yr.xls']\n"
     ]
    }
   ],
   "source": [
    "# connect to doc with all results\n",
    "\n",
    "import os\n",
    "\n",
    "#file path\n",
    "\n",
    "path = os.fsencode('/Users/dgordon/RMI/RMI/Climate Action Engine - Documents/OCI Phase 2/Downstream/Analytics/')\n",
    "\n",
    "file_list = []\n",
    "for file in os.listdir(path):\n",
    "    filename = os.fsdecode(file)\n",
    "    if filename.startswith('up_mid_down_new'):\n",
    "        print(filename)\n",
    "        file_list.append(filename)\n",
    "        continue\n",
    "    else:\n",
    "        continue\n",
    "\n",
    "print(file_list)\n"
   ]
  },
  {
   "cell_type": "code",
   "execution_count": 8,
   "metadata": {},
   "outputs": [
    {
     "ename": "ValueError",
     "evalue": "File is not a recognized excel file",
     "output_type": "error",
     "traceback": [
      "\u001b[0;31m---------------------------------------------------------------------------\u001b[0m",
      "\u001b[0;31mValueError\u001b[0m                                Traceback (most recent call last)",
      "\u001b[0;32m<ipython-input-8-87401853bb7c>\u001b[0m in \u001b[0;36m<module>\u001b[0;34m\u001b[0m\n\u001b[1;32m      1\u001b[0m \u001b[0;31m#read columns\u001b[0m\u001b[0;34m\u001b[0m\u001b[0;34m\u001b[0m\u001b[0;34m\u001b[0m\u001b[0m\n\u001b[1;32m      2\u001b[0m \u001b[0;34m\u001b[0m\u001b[0m\n\u001b[0;32m----> 3\u001b[0;31m \u001b[0mresults\u001b[0m \u001b[0;34m=\u001b[0m \u001b[0mpd\u001b[0m\u001b[0;34m.\u001b[0m\u001b[0mread_excel\u001b[0m\u001b[0;34m(\u001b[0m\u001b[0;34m'/Users/dgordon/RMI/RMI/Climate Action Engine - Documents/OCI Phase 2/Downstream/Analytics/up_mid_down_new_100yr.xls'\u001b[0m\u001b[0;34m)\u001b[0m\u001b[0;34m\u001b[0m\u001b[0;34m\u001b[0m\u001b[0m\n\u001b[0m\u001b[1;32m      4\u001b[0m \u001b[0mresults\u001b[0m\u001b[0;34m.\u001b[0m\u001b[0mhead\u001b[0m\u001b[0;34m(\u001b[0m\u001b[0;34m)\u001b[0m\u001b[0;34m\u001b[0m\u001b[0;34m\u001b[0m\u001b[0m\n\u001b[1;32m      5\u001b[0m \u001b[0;34m\u001b[0m\u001b[0m\n",
      "\u001b[0;32m~/opt/anaconda3/lib/python3.8/site-packages/pandas/util/_decorators.py\u001b[0m in \u001b[0;36mwrapper\u001b[0;34m(*args, **kwargs)\u001b[0m\n\u001b[1;32m    297\u001b[0m                 )\n\u001b[1;32m    298\u001b[0m                 \u001b[0mwarnings\u001b[0m\u001b[0;34m.\u001b[0m\u001b[0mwarn\u001b[0m\u001b[0;34m(\u001b[0m\u001b[0mmsg\u001b[0m\u001b[0;34m,\u001b[0m \u001b[0mFutureWarning\u001b[0m\u001b[0;34m,\u001b[0m \u001b[0mstacklevel\u001b[0m\u001b[0;34m=\u001b[0m\u001b[0mstacklevel\u001b[0m\u001b[0;34m)\u001b[0m\u001b[0;34m\u001b[0m\u001b[0;34m\u001b[0m\u001b[0m\n\u001b[0;32m--> 299\u001b[0;31m             \u001b[0;32mreturn\u001b[0m \u001b[0mfunc\u001b[0m\u001b[0;34m(\u001b[0m\u001b[0;34m*\u001b[0m\u001b[0margs\u001b[0m\u001b[0;34m,\u001b[0m \u001b[0;34m**\u001b[0m\u001b[0mkwargs\u001b[0m\u001b[0;34m)\u001b[0m\u001b[0;34m\u001b[0m\u001b[0;34m\u001b[0m\u001b[0m\n\u001b[0m\u001b[1;32m    300\u001b[0m \u001b[0;34m\u001b[0m\u001b[0m\n\u001b[1;32m    301\u001b[0m         \u001b[0;32mreturn\u001b[0m \u001b[0mwrapper\u001b[0m\u001b[0;34m\u001b[0m\u001b[0;34m\u001b[0m\u001b[0m\n",
      "\u001b[0;32m~/opt/anaconda3/lib/python3.8/site-packages/pandas/io/excel/_base.py\u001b[0m in \u001b[0;36mread_excel\u001b[0;34m(io, sheet_name, header, names, index_col, usecols, squeeze, dtype, engine, converters, true_values, false_values, skiprows, nrows, na_values, keep_default_na, na_filter, verbose, parse_dates, date_parser, thousands, comment, skipfooter, convert_float, mangle_dupe_cols, storage_options)\u001b[0m\n\u001b[1;32m    334\u001b[0m     \u001b[0;32mif\u001b[0m \u001b[0;32mnot\u001b[0m \u001b[0misinstance\u001b[0m\u001b[0;34m(\u001b[0m\u001b[0mio\u001b[0m\u001b[0;34m,\u001b[0m \u001b[0mExcelFile\u001b[0m\u001b[0;34m)\u001b[0m\u001b[0;34m:\u001b[0m\u001b[0;34m\u001b[0m\u001b[0;34m\u001b[0m\u001b[0m\n\u001b[1;32m    335\u001b[0m         \u001b[0mshould_close\u001b[0m \u001b[0;34m=\u001b[0m \u001b[0;32mTrue\u001b[0m\u001b[0;34m\u001b[0m\u001b[0;34m\u001b[0m\u001b[0m\n\u001b[0;32m--> 336\u001b[0;31m         \u001b[0mio\u001b[0m \u001b[0;34m=\u001b[0m \u001b[0mExcelFile\u001b[0m\u001b[0;34m(\u001b[0m\u001b[0mio\u001b[0m\u001b[0;34m,\u001b[0m \u001b[0mstorage_options\u001b[0m\u001b[0;34m=\u001b[0m\u001b[0mstorage_options\u001b[0m\u001b[0;34m,\u001b[0m \u001b[0mengine\u001b[0m\u001b[0;34m=\u001b[0m\u001b[0mengine\u001b[0m\u001b[0;34m)\u001b[0m\u001b[0;34m\u001b[0m\u001b[0;34m\u001b[0m\u001b[0m\n\u001b[0m\u001b[1;32m    337\u001b[0m     \u001b[0;32melif\u001b[0m \u001b[0mengine\u001b[0m \u001b[0;32mand\u001b[0m \u001b[0mengine\u001b[0m \u001b[0;34m!=\u001b[0m \u001b[0mio\u001b[0m\u001b[0;34m.\u001b[0m\u001b[0mengine\u001b[0m\u001b[0;34m:\u001b[0m\u001b[0;34m\u001b[0m\u001b[0;34m\u001b[0m\u001b[0m\n\u001b[1;32m    338\u001b[0m         raise ValueError(\n",
      "\u001b[0;32m~/opt/anaconda3/lib/python3.8/site-packages/pandas/io/excel/_base.py\u001b[0m in \u001b[0;36m__init__\u001b[0;34m(self, path_or_buffer, engine, storage_options)\u001b[0m\n\u001b[1;32m   1069\u001b[0m                 \u001b[0mext\u001b[0m \u001b[0;34m=\u001b[0m \u001b[0;34m\"xls\"\u001b[0m\u001b[0;34m\u001b[0m\u001b[0;34m\u001b[0m\u001b[0m\n\u001b[1;32m   1070\u001b[0m             \u001b[0;32melse\u001b[0m\u001b[0;34m:\u001b[0m\u001b[0;34m\u001b[0m\u001b[0;34m\u001b[0m\u001b[0m\n\u001b[0;32m-> 1071\u001b[0;31m                 ext = inspect_excel_format(\n\u001b[0m\u001b[1;32m   1072\u001b[0m                     \u001b[0mcontent\u001b[0m\u001b[0;34m=\u001b[0m\u001b[0mpath_or_buffer\u001b[0m\u001b[0;34m,\u001b[0m \u001b[0mstorage_options\u001b[0m\u001b[0;34m=\u001b[0m\u001b[0mstorage_options\u001b[0m\u001b[0;34m\u001b[0m\u001b[0;34m\u001b[0m\u001b[0m\n\u001b[1;32m   1073\u001b[0m                 )\n",
      "\u001b[0;32m~/opt/anaconda3/lib/python3.8/site-packages/pandas/io/excel/_base.py\u001b[0m in \u001b[0;36minspect_excel_format\u001b[0;34m(path, content, storage_options)\u001b[0m\n\u001b[1;32m    963\u001b[0m             \u001b[0;32mreturn\u001b[0m \u001b[0;34m\"xls\"\u001b[0m\u001b[0;34m\u001b[0m\u001b[0;34m\u001b[0m\u001b[0m\n\u001b[1;32m    964\u001b[0m         \u001b[0;32melif\u001b[0m \u001b[0;32mnot\u001b[0m \u001b[0mpeek\u001b[0m\u001b[0;34m.\u001b[0m\u001b[0mstartswith\u001b[0m\u001b[0;34m(\u001b[0m\u001b[0mZIP_SIGNATURE\u001b[0m\u001b[0;34m)\u001b[0m\u001b[0;34m:\u001b[0m\u001b[0;34m\u001b[0m\u001b[0;34m\u001b[0m\u001b[0m\n\u001b[0;32m--> 965\u001b[0;31m             \u001b[0;32mraise\u001b[0m \u001b[0mValueError\u001b[0m\u001b[0;34m(\u001b[0m\u001b[0;34m\"File is not a recognized excel file\"\u001b[0m\u001b[0;34m)\u001b[0m\u001b[0;34m\u001b[0m\u001b[0;34m\u001b[0m\u001b[0m\n\u001b[0m\u001b[1;32m    966\u001b[0m \u001b[0;34m\u001b[0m\u001b[0m\n\u001b[1;32m    967\u001b[0m         \u001b[0;31m# ZipFile typing is overly-strict\u001b[0m\u001b[0;34m\u001b[0m\u001b[0;34m\u001b[0m\u001b[0;34m\u001b[0m\u001b[0m\n",
      "\u001b[0;31mValueError\u001b[0m: File is not a recognized excel file"
     ]
    }
   ],
   "source": [
    "#read columns\n",
    "\n",
    "results = pd.read_excel('/Users/dgordon/RMI/RMI/Climate Action Engine - Documents/OCI Phase 2/Downstream/Analytics/up_mid_down_new_100yr.xlsx')\n",
    "results.head()\n",
    "\n",
    "for col in results.columns:\n",
    "    print(col)"
   ]
  },
  {
   "cell_type": "code",
   "execution_count": null,
   "metadata": {},
   "outputs": [],
   "source": [
    "# isolate kgCo2e numbers\n",
    "\n",
    "upstream_kgCO2e_categories ={\n",
    "    'Upstream: Exploration (kgCO2eq/boe)':'e-Total GHG emissions',\n",
    "    'Upstream: Drilling & Development (kgCO2eq/boe)':'d-Total GHG emissions',\n",
    "    'Upstream: Crude Production & Extraction (kgCO2eq/boe)':'p-Total GHG emissions',\n",
    "    'Upstream: Surface Processing (kgCO2eq/boe)':'s-Total GHG emissions',\n",
    "    'Upstream: Maintenance (kgCO2eq/boe)':'m-Total GHG emissions',\n",
    "    'Upstream: Waste Disposal (kgCO2eq/boe)':'w-Total GHG emissions',\n",
    "    'Upstream: Crude Transport (kgCO2eq/boe)':'t-Total GHG emissions',\n",
    "    'Upstream: Other Small Sources (kgCO2eq/boe)':'Other small sources',\n",
    "    'Upstream: Offsite emissions credit/debit (kgCO2eq/boe)':'Offsite emissions credit/debit',\n",
    "    'Upstream: Carbon Dioxide Sequestration (kgCO2eq/boe)':'CSS-Total CO2 sequestered'\n",
    "}\n",
    "\n",
    "#define converstion function (thanks Rose)\n",
    "def upstream_gmj_kgboe_convert(x):\n",
    "    return(results[x]*results['ES_MJperd']/results['Total BOE Produced']/1000)\n"
   ]
  },
  {
   "cell_type": "code",
   "execution_count": null,
   "metadata": {},
   "outputs": [
    {
     "ename": "NameError",
     "evalue": "name 'results' is not defined",
     "output_type": "error",
     "traceback": [
      "\u001b[0;31m---------------------------------------------------------------------------\u001b[0m",
      "\u001b[0;31mNameError\u001b[0m                                 Traceback (most recent call last)",
      "\u001b[0;32m<ipython-input-6-74c1e18c3b02>\u001b[0m in \u001b[0;36m<module>\u001b[0;34m\u001b[0m\n\u001b[1;32m      1\u001b[0m \u001b[0;32mfor\u001b[0m \u001b[0mi\u001b[0m \u001b[0;32min\u001b[0m \u001b[0mupstream_kgCO2e_categories\u001b[0m\u001b[0;34m:\u001b[0m\u001b[0;34m\u001b[0m\u001b[0;34m\u001b[0m\u001b[0m\n\u001b[0;32m----> 2\u001b[0;31m     \u001b[0mresults\u001b[0m\u001b[0;34m[\u001b[0m\u001b[0mi\u001b[0m\u001b[0;34m]\u001b[0m \u001b[0;34m=\u001b[0m \u001b[0mupstream_gmj_kgboe_convert\u001b[0m\u001b[0;34m(\u001b[0m\u001b[0mupstream_kgCO2e_categories\u001b[0m\u001b[0;34m[\u001b[0m\u001b[0mi\u001b[0m\u001b[0;34m]\u001b[0m\u001b[0;34m)\u001b[0m\u001b[0;34m\u001b[0m\u001b[0;34m\u001b[0m\u001b[0m\n\u001b[0m\u001b[1;32m      3\u001b[0m \u001b[0;34m\u001b[0m\u001b[0m\n\u001b[1;32m      4\u001b[0m \u001b[0mresults\u001b[0m\u001b[0;34m[\u001b[0m\u001b[0;34m'Upstream Carbon Intensity (kgCO2eq/boe)'\u001b[0m\u001b[0;34m]\u001b[0m \u001b[0;34m=\u001b[0m \u001b[0msum\u001b[0m\u001b[0;34m(\u001b[0m\u001b[0;34m[\u001b[0m\u001b[0mresults\u001b[0m\u001b[0;34m[\u001b[0m\u001b[0mi\u001b[0m\u001b[0;34m]\u001b[0m \u001b[0;32mfor\u001b[0m \u001b[0mi\u001b[0m \u001b[0;32min\u001b[0m \u001b[0mupstream_kgCO2e_categories\u001b[0m\u001b[0;34m]\u001b[0m\u001b[0;34m)\u001b[0m\u001b[0;34m\u001b[0m\u001b[0;34m\u001b[0m\u001b[0m\n\u001b[1;32m      5\u001b[0m \u001b[0;34m\u001b[0m\u001b[0m\n",
      "\u001b[0;32m<ipython-input-5-1f35a92ec9e5>\u001b[0m in \u001b[0;36mupstream_gmj_kgboe_convert\u001b[0;34m(x)\u001b[0m\n\u001b[1;32m     16\u001b[0m \u001b[0;31m#define converstion function (thanks Rose)\u001b[0m\u001b[0;34m\u001b[0m\u001b[0;34m\u001b[0m\u001b[0;34m\u001b[0m\u001b[0m\n\u001b[1;32m     17\u001b[0m \u001b[0;32mdef\u001b[0m \u001b[0mupstream_gmj_kgboe_convert\u001b[0m\u001b[0;34m(\u001b[0m\u001b[0mx\u001b[0m\u001b[0;34m)\u001b[0m\u001b[0;34m:\u001b[0m\u001b[0;34m\u001b[0m\u001b[0;34m\u001b[0m\u001b[0m\n\u001b[0;32m---> 18\u001b[0;31m     \u001b[0;32mreturn\u001b[0m\u001b[0;34m(\u001b[0m\u001b[0mresults\u001b[0m\u001b[0;34m[\u001b[0m\u001b[0mx\u001b[0m\u001b[0;34m]\u001b[0m\u001b[0;34m*\u001b[0m\u001b[0mresults\u001b[0m\u001b[0;34m[\u001b[0m\u001b[0;34m'ES_MJperd'\u001b[0m\u001b[0;34m]\u001b[0m\u001b[0;34m/\u001b[0m\u001b[0mresults\u001b[0m\u001b[0;34m[\u001b[0m\u001b[0;34m'Total BOE Produced'\u001b[0m\u001b[0;34m]\u001b[0m\u001b[0;34m/\u001b[0m\u001b[0;36m1000\u001b[0m\u001b[0;34m)\u001b[0m\u001b[0;34m\u001b[0m\u001b[0;34m\u001b[0m\u001b[0m\n\u001b[0m",
      "\u001b[0;31mNameError\u001b[0m: name 'results' is not defined"
     ]
    }
   ],
   "source": [
    "\n",
    "for i in upstream_kgCO2e_categories:\n",
    "    results[i] = upstream_gmj_kgboe_convert(upstream_kgCO2e_categories[i])\n",
    "\n",
    "results['Upstream Carbon Intensity (kgCO2eq/boe)'] = sum([results[i] for i in upstream_kgCO2e_categories])\n",
    "\n",
    "results_df = pd.DataFrame(results)\n",
    "\n",
    "results_i_want = results_df[['Field_name','Field location (Country)','Upstream Carbon Intensity (kgCO2eq/boe)']]\n",
    "\n",
    "print(results_i_want)"
   ]
  },
  {
   "cell_type": "code",
   "execution_count": null,
   "metadata": {},
   "outputs": [
    {
     "name": "stdout",
     "output_type": "stream",
     "text": [
      "                          Upstream Carbon Intensity (kgCO2eq/boe)\n",
      "Field location (Country)                                         \n",
      "Algeria                                                132.026965\n",
      "Angola                                                  43.213750\n",
      "Argentina                                              793.616077\n",
      "Australia                                              152.891523\n",
      "Azerbaijan                                              45.203389\n",
      "Bahrain                                                116.086298\n",
      "Bangladesh                                              72.593314\n",
      "Bolivia                                                105.093301\n",
      "Brazil                                                  49.517479\n",
      "Canada                                                 121.104349\n",
      "Chad                                                    52.270329\n",
      "China                                                   98.702689\n",
      "Colombia                                                48.092825\n",
      "Ecuador                                                 54.401468\n",
      "Egypt                                                   78.431898\n",
      "Equatorial Guinea                                       71.351071\n",
      "Gabon                                                  130.032290\n",
      "Ghana                                                   50.613106\n",
      "Guyana                                                  26.890332\n",
      "India                                                   75.282303\n",
      "Indonesia                                              125.091805\n",
      "Iran                                                   139.733251\n",
      "Iraq                                                    72.451136\n",
      "Israel                                                 113.559075\n",
      "Kazakhstan                                              47.306918\n",
      "Kuwait                                                  30.751448\n",
      "Libya                                                   98.867785\n",
      "Malaysia                                                94.589087\n",
      "Mexico                                                  71.602092\n",
      "Mozambique                                             112.626199\n",
      "Myanmar                                                113.766772\n",
      "Netherlands                                             52.513713\n",
      "Nigeria                                                127.614511\n",
      "Nigeria                                              15896.047043\n",
      "Norway                                                  56.128716\n",
      "Oman                                                    94.250156\n",
      "Pakistan                                               106.478392\n",
      "Peru                                                    63.729688\n",
      "Qatar                                                   57.293302\n",
      "Russian Federation                                      57.388046\n",
      "Saudi Arabia                                            24.549358\n",
      "Thailand                                                88.895307\n",
      "Trinidad and Tobago                                    119.269863\n",
      "Turkmenistan                                           118.558967\n",
      "Ukraine                                                 91.418669\n",
      "United Arab Emirates                                    47.272363\n",
      "United Kingdom                                         132.344379\n",
      "United States                                          122.795355\n",
      "Uzbekistan                                             124.426515\n",
      "Venezuela                                              205.068597\n",
      "Vietnam                                                 78.093751\n"
     ]
    }
   ],
   "source": [
    "#calculate straight country intensity kgCO2e average\n",
    "\n",
    "country_kgCO2e_average = results_i_want.groupby(['Field location (Country)']).mean()\n",
    "\n",
    "print(country_kgCO2e_average)"
   ]
  }
 ],
 "metadata": {
  "interpreter": {
   "hash": "0bc368e0a7eb75e0afb10442c738fa09b4c3a60771d0f23fc0de4c16365e75f4"
  },
  "kernelspec": {
   "display_name": "Python 3.8.8 64-bit ('base': conda)",
   "language": "python",
   "name": "python3"
  },
  "language_info": {
   "codemirror_mode": {
    "name": "ipython",
    "version": 3
   },
   "file_extension": ".py",
   "mimetype": "text/x-python",
   "name": "python",
   "nbconvert_exporter": "python",
   "pygments_lexer": "ipython3",
   "version": "3.8.8"
  },
  "orig_nbformat": 4
 },
 "nbformat": 4,
 "nbformat_minor": 2
}
